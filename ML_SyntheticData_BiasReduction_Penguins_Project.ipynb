{
 "cells": [
  {
   "cell_type": "markdown",
   "id": "4f0f9987-dc61-42f8-8c07-4741ccb22dbb",
   "metadata": {},
   "source": [
    "## Andrew Goldblatt - Penguin Classification Using Biased and Biased Reduced Synthetic Datasets"
   ]
  },
  {
   "cell_type": "code",
   "execution_count": 2,
   "id": "e95a0b49-68a5-474d-a068-262fa9498e93",
   "metadata": {},
   "outputs": [
    {
     "name": "stderr",
     "output_type": "stream",
     "text": [
      "/Users/andrewgoldblatt/opt/anaconda3/lib/python3.9/site-packages/scipy/__init__.py:146: UserWarning: A NumPy version >=1.16.5 and <1.23.0 is required for this version of SciPy (detected version 1.24.3\n",
      "  warnings.warn(f\"A NumPy version >={np_minversion} and <{np_maxversion}\"\n"
     ]
    }
   ],
   "source": [
    "#Import packages\n",
    "import pandas as pd\n",
    "import numpy as np\n",
    "import matplotlib.pyplot as plt\n",
    "from scipy.stats import gaussian_kde"
   ]
  },
  {
   "cell_type": "code",
   "execution_count": 3,
   "id": "08d9d4c5-0383-49ca-97e4-499e8eda8386",
   "metadata": {},
   "outputs": [],
   "source": [
    "#read in data\n",
    "train_df = pd.read_csv(\"penguins_train.csv\").drop(columns=['Unnamed: 0','Island'])\n",
    "\n",
    "#replace sex variables with dummy variables \n",
    "train_df['Sex'].replace(['FEMALE', 'MALE'],\n",
    "                        [1, 0], inplace=True)\n",
    "#drop NA\n",
    "train_df = train_df.dropna()\n"
   ]
  },
  {
   "cell_type": "code",
   "execution_count": 218,
   "id": "1407074c-573f-4ba3-9c9e-a732fc0bbfb5",
   "metadata": {},
   "outputs": [
    {
     "data": {
      "text/html": [
       "<div>\n",
       "<style scoped>\n",
       "    .dataframe tbody tr th:only-of-type {\n",
       "        vertical-align: middle;\n",
       "    }\n",
       "\n",
       "    .dataframe tbody tr th {\n",
       "        vertical-align: top;\n",
       "    }\n",
       "\n",
       "    .dataframe thead th {\n",
       "        text-align: right;\n",
       "    }\n",
       "</style>\n",
       "<table border=\"1\" class=\"dataframe\">\n",
       "  <thead>\n",
       "    <tr style=\"text-align: right;\">\n",
       "      <th></th>\n",
       "      <th>Species</th>\n",
       "      <th>Beak Length (mm)</th>\n",
       "      <th>Beak Depth (mm)</th>\n",
       "      <th>Flipper Length (mm)</th>\n",
       "      <th>Body Mass (g)</th>\n",
       "      <th>Sex</th>\n",
       "    </tr>\n",
       "  </thead>\n",
       "  <tbody>\n",
       "    <tr>\n",
       "      <th>0</th>\n",
       "      <td>Chinstrap</td>\n",
       "      <td>50.1</td>\n",
       "      <td>17.9</td>\n",
       "      <td>190.0</td>\n",
       "      <td>3400.0</td>\n",
       "      <td>1.0</td>\n",
       "    </tr>\n",
       "    <tr>\n",
       "      <th>1</th>\n",
       "      <td>Gentoo</td>\n",
       "      <td>47.5</td>\n",
       "      <td>15.0</td>\n",
       "      <td>218.0</td>\n",
       "      <td>4950.0</td>\n",
       "      <td>1.0</td>\n",
       "    </tr>\n",
       "    <tr>\n",
       "      <th>2</th>\n",
       "      <td>Gentoo</td>\n",
       "      <td>50.0</td>\n",
       "      <td>15.2</td>\n",
       "      <td>218.0</td>\n",
       "      <td>5700.0</td>\n",
       "      <td>0.0</td>\n",
       "    </tr>\n",
       "    <tr>\n",
       "      <th>3</th>\n",
       "      <td>Adelie</td>\n",
       "      <td>41.1</td>\n",
       "      <td>17.5</td>\n",
       "      <td>190.0</td>\n",
       "      <td>3900.0</td>\n",
       "      <td>0.0</td>\n",
       "    </tr>\n",
       "    <tr>\n",
       "      <th>4</th>\n",
       "      <td>Gentoo</td>\n",
       "      <td>47.7</td>\n",
       "      <td>15.0</td>\n",
       "      <td>216.0</td>\n",
       "      <td>4750.0</td>\n",
       "      <td>1.0</td>\n",
       "    </tr>\n",
       "    <tr>\n",
       "      <th>...</th>\n",
       "      <td>...</td>\n",
       "      <td>...</td>\n",
       "      <td>...</td>\n",
       "      <td>...</td>\n",
       "      <td>...</td>\n",
       "      <td>...</td>\n",
       "    </tr>\n",
       "    <tr>\n",
       "      <th>252</th>\n",
       "      <td>Chinstrap</td>\n",
       "      <td>55.8</td>\n",
       "      <td>19.8</td>\n",
       "      <td>207.0</td>\n",
       "      <td>4000.0</td>\n",
       "      <td>0.0</td>\n",
       "    </tr>\n",
       "    <tr>\n",
       "      <th>253</th>\n",
       "      <td>Adelie</td>\n",
       "      <td>35.5</td>\n",
       "      <td>17.5</td>\n",
       "      <td>190.0</td>\n",
       "      <td>3700.0</td>\n",
       "      <td>1.0</td>\n",
       "    </tr>\n",
       "    <tr>\n",
       "      <th>254</th>\n",
       "      <td>Adelie</td>\n",
       "      <td>36.4</td>\n",
       "      <td>17.1</td>\n",
       "      <td>184.0</td>\n",
       "      <td>2850.0</td>\n",
       "      <td>1.0</td>\n",
       "    </tr>\n",
       "    <tr>\n",
       "      <th>255</th>\n",
       "      <td>Adelie</td>\n",
       "      <td>41.1</td>\n",
       "      <td>19.0</td>\n",
       "      <td>182.0</td>\n",
       "      <td>3425.0</td>\n",
       "      <td>0.0</td>\n",
       "    </tr>\n",
       "    <tr>\n",
       "      <th>256</th>\n",
       "      <td>Gentoo</td>\n",
       "      <td>46.3</td>\n",
       "      <td>15.8</td>\n",
       "      <td>215.0</td>\n",
       "      <td>5050.0</td>\n",
       "      <td>0.0</td>\n",
       "    </tr>\n",
       "  </tbody>\n",
       "</table>\n",
       "<p>249 rows × 6 columns</p>\n",
       "</div>"
      ],
      "text/plain": [
       "       Species  Beak Length (mm)  Beak Depth (mm)  Flipper Length (mm)  \\\n",
       "0    Chinstrap              50.1             17.9                190.0   \n",
       "1       Gentoo              47.5             15.0                218.0   \n",
       "2       Gentoo              50.0             15.2                218.0   \n",
       "3       Adelie              41.1             17.5                190.0   \n",
       "4       Gentoo              47.7             15.0                216.0   \n",
       "..         ...               ...              ...                  ...   \n",
       "252  Chinstrap              55.8             19.8                207.0   \n",
       "253     Adelie              35.5             17.5                190.0   \n",
       "254     Adelie              36.4             17.1                184.0   \n",
       "255     Adelie              41.1             19.0                182.0   \n",
       "256     Gentoo              46.3             15.8                215.0   \n",
       "\n",
       "     Body Mass (g)  Sex  \n",
       "0           3400.0  1.0  \n",
       "1           4950.0  1.0  \n",
       "2           5700.0  0.0  \n",
       "3           3900.0  0.0  \n",
       "4           4750.0  1.0  \n",
       "..             ...  ...  \n",
       "252         4000.0  0.0  \n",
       "253         3700.0  1.0  \n",
       "254         2850.0  1.0  \n",
       "255         3425.0  0.0  \n",
       "256         5050.0  0.0  \n",
       "\n",
       "[249 rows x 6 columns]"
      ]
     },
     "execution_count": 218,
     "metadata": {},
     "output_type": "execute_result"
    }
   ],
   "source": [
    "#view penguin dataset\n",
    "train_df"
   ]
  },
  {
   "cell_type": "code",
   "execution_count": 4,
   "id": "a061be87-3078-47c6-94e5-2f5a503c74bc",
   "metadata": {},
   "outputs": [],
   "source": [
    "#create dataframes for each species \n",
    "chinstrap_df = train_df[train_df[\"Species\"] == \"Chinstrap\"]\n",
    "adelie_df = train_df[train_df[\"Species\"] == \"Adelie\"]\n",
    "gentoo_df = train_df[train_df[\"Species\"] == \"Gentoo\"]"
   ]
  },
  {
   "cell_type": "code",
   "execution_count": 5,
   "id": "5b5fcceb-0447-4ab5-a0dd-bdaee945ffb0",
   "metadata": {},
   "outputs": [
    {
     "data": {
      "image/png": "[encoded data removed]",
      "text/plain": [
       "<Figure size 432x288 with 1 Axes>"
      ]
     },
     "metadata": {
      "needs_background": "light"
     },
     "output_type": "display_data"
    }
   ],
   "source": [
    "#view beak length distribution for the different species\n",
    "\n",
    "list1 = chinstrap_df[\"Beak Length (mm)\"]\n",
    "list2 = adelie_df[\"Beak Length (mm)\"]\n",
    "list3 = gentoo_df[\"Beak Length (mm)\"]\n",
    "\n",
    "bins = np.arange(min(min(list1), min(list2), min(list3)), max(max(list1), max(list2), max(list3)) + 1.5, 1)\n",
    "hist1, _ = np.histogram(list1, bins=bins)\n",
    "hist2, _ = np.histogram(list2, bins=bins)\n",
    "hist3, _ = np.histogram(list3, bins=bins)\n",
    "\n",
    "# Plotting histograms as lines\n",
    "plt.plot(bins[:-1], hist1, label='Chinstrap')\n",
    "plt.plot(bins[:-1], hist2, label='Adelie')\n",
    "plt.plot(bins[:-1], hist3, label='Gentoo')\n",
    "\n",
    "# Adding labels and title\n",
    "plt.xlabel('Beak Length')\n",
    "plt.ylabel('Frequency')\n",
    "plt.title('distribution of beak length')\n",
    "\n",
    "# Adding legend\n",
    "plt.legend()\n",
    "\n",
    "# Displaying the plot\n",
    "plt.show()\n"
   ]
  },
  {
   "cell_type": "code",
   "execution_count": 6,
   "id": "fe34b9f5-cb27-4eb8-aadd-cf1fc85e97a5",
   "metadata": {},
   "outputs": [
    {
     "data": {
      "image/png": "[encoded data removed]",
      "text/plain": [
       "<Figure size 432x288 with 1 Axes>"
      ]
     },
     "metadata": {
      "needs_background": "light"
     },
     "output_type": "display_data"
    }
   ],
   "source": [
    "#view beak depth distribution for the different species\n",
    "\n",
    "list1 = chinstrap_df[\"Beak Depth (mm)\"]\n",
    "list2 = adelie_df[\"Beak Depth (mm)\"]\n",
    "list3 = gentoo_df[\"Beak Depth (mm)\"]\n",
    "\n",
    "bins = np.arange(min(min(list1), min(list2), min(list3)), max(max(list1), max(list2), max(list3)) + 1.5, 1)\n",
    "hist1, _ = np.histogram(list1, bins=bins)\n",
    "hist2, _ = np.histogram(list2, bins=bins)\n",
    "hist3, _ = np.histogram(list3, bins=bins)\n",
    "\n",
    "# Plotting histograms as lines\n",
    "plt.plot(bins[:-1], hist1, label='Chinstrap')\n",
    "plt.plot(bins[:-1], hist2, label='Adelie')\n",
    "plt.plot(bins[:-1], hist3, label='Gentoo')\n",
    "\n",
    "# Adding labels and title\n",
    "plt.xlabel('Beak Depth')\n",
    "plt.ylabel('Frequency')\n",
    "plt.title('distribution of beak depth')\n",
    "\n",
    "# Adding legend\n",
    "plt.legend()\n",
    "\n",
    "# Displaying the plot\n",
    "plt.show()\n"
   ]
  },
  {
   "cell_type": "code",
   "execution_count": 7,
   "id": "23c4dfd1-fd0b-40a3-99ac-5b0ec3097eaf",
   "metadata": {},
   "outputs": [
    {
     "data": {
      "image/png": "[encoded data removed]",
      "text/plain": [
       "<Figure size 432x288 with 1 Axes>"
      ]
     },
     "metadata": {
      "needs_background": "light"
     },
     "output_type": "display_data"
    }
   ],
   "source": [
    "#view flipper length distribution for the different species\n",
    "\n",
    "list1 = chinstrap_df[\"Flipper Length (mm)\"]\n",
    "list2 = adelie_df[\"Flipper Length (mm)\"]\n",
    "list3 = gentoo_df[\"Flipper Length (mm)\"]\n",
    "\n",
    "bins = np.arange(min(min(list1), min(list2), min(list3)), max(max(list1), max(list2), max(list3)) + 1.5, 1)\n",
    "hist1, _ = np.histogram(list1, bins=bins)\n",
    "hist2, _ = np.histogram(list2, bins=bins)\n",
    "hist3, _ = np.histogram(list3, bins=bins)\n",
    "\n",
    "# Plotting histograms as lines\n",
    "plt.plot(bins[:-1], hist1, label='Chinstrap')\n",
    "plt.plot(bins[:-1], hist2, label='Adelie')\n",
    "plt.plot(bins[:-1], hist3, label='Gentoo')\n",
    "\n",
    "# Adding labels and title\n",
    "plt.xlabel('Flipper Length')\n",
    "plt.ylabel('Frequency')\n",
    "plt.title('distribution of Flipper Length')\n",
    "\n",
    "# Adding legend\n",
    "plt.legend()\n",
    "\n",
    "# Displaying the plot\n",
    "plt.show()\n"
   ]
  },
  {
   "cell_type": "markdown",
   "id": "fa758895-462a-45d2-ac7d-3adaa552b27d",
   "metadata": {},
   "source": [
    "# Artificially Create Class Distribution Bias Datasets"
   ]
  },
  {
   "cell_type": "code",
   "execution_count": 223,
   "id": "415ea0e9-52fc-4b2c-85a6-c8501eabfbdb",
   "metadata": {},
   "outputs": [],
   "source": [
    "### 50/50 split"
   ]
  },
  {
   "cell_type": "code",
   "execution_count": 11,
   "id": "9f138262-0a7e-4e55-b883-e58ee20afd84",
   "metadata": {
    "tags": []
   },
   "outputs": [
    {
     "data": {
      "text/html": [
       "<div>\n",
       "<style scoped>\n",
       "    .dataframe tbody tr th:only-of-type {\n",
       "        vertical-align: middle;\n",
       "    }\n",
       "\n",
       "    .dataframe tbody tr th {\n",
       "        vertical-align: top;\n",
       "    }\n",
       "\n",
       "    .dataframe thead th {\n",
       "        text-align: right;\n",
       "    }\n",
       "</style>\n",
       "<table border=\"1\" class=\"dataframe\">\n",
       "  <thead>\n",
       "    <tr style=\"text-align: right;\">\n",
       "      <th></th>\n",
       "      <th>Species</th>\n",
       "      <th>Beak Length (mm)</th>\n",
       "      <th>Beak Depth (mm)</th>\n",
       "      <th>Flipper Length (mm)</th>\n",
       "      <th>Body Mass (g)</th>\n",
       "      <th>Sex</th>\n",
       "    </tr>\n",
       "  </thead>\n",
       "  <tbody>\n",
       "    <tr>\n",
       "      <th>31</th>\n",
       "      <td>1</td>\n",
       "      <td>42.7</td>\n",
       "      <td>13.7</td>\n",
       "      <td>208.0</td>\n",
       "      <td>3950.0</td>\n",
       "      <td>1.0</td>\n",
       "    </tr>\n",
       "    <tr>\n",
       "      <th>97</th>\n",
       "      <td>1</td>\n",
       "      <td>45.7</td>\n",
       "      <td>13.9</td>\n",
       "      <td>214.0</td>\n",
       "      <td>4400.0</td>\n",
       "      <td>1.0</td>\n",
       "    </tr>\n",
       "    <tr>\n",
       "      <th>125</th>\n",
       "      <td>1</td>\n",
       "      <td>42.9</td>\n",
       "      <td>13.1</td>\n",
       "      <td>215.0</td>\n",
       "      <td>5000.0</td>\n",
       "      <td>1.0</td>\n",
       "    </tr>\n",
       "    <tr>\n",
       "      <th>145</th>\n",
       "      <td>1</td>\n",
       "      <td>49.5</td>\n",
       "      <td>16.2</td>\n",
       "      <td>229.0</td>\n",
       "      <td>5800.0</td>\n",
       "      <td>0.0</td>\n",
       "    </tr>\n",
       "    <tr>\n",
       "      <th>219</th>\n",
       "      <td>1</td>\n",
       "      <td>48.1</td>\n",
       "      <td>15.1</td>\n",
       "      <td>209.0</td>\n",
       "      <td>5500.0</td>\n",
       "      <td>0.0</td>\n",
       "    </tr>\n",
       "  </tbody>\n",
       "</table>\n",
       "</div>"
      ],
      "text/plain": [
       "     Species  Beak Length (mm)  Beak Depth (mm)  Flipper Length (mm)  \\\n",
       "31         1              42.7             13.7                208.0   \n",
       "97         1              45.7             13.9                214.0   \n",
       "125        1              42.9             13.1                215.0   \n",
       "145        1              49.5             16.2                229.0   \n",
       "219        1              48.1             15.1                209.0   \n",
       "\n",
       "     Body Mass (g)  Sex  \n",
       "31          3950.0  1.0  \n",
       "97          4400.0  1.0  \n",
       "125         5000.0  1.0  \n",
       "145         5800.0  0.0  \n",
       "219         5500.0  0.0  "
      ]
     },
     "execution_count": 11,
     "metadata": {},
     "output_type": "execute_result"
    }
   ],
   "source": [
    "gentoo_50 = gentoo_df.sample(50)\n",
    "adelie_50 = adelie_df.sample(50)\n",
    "bias_0 = pd.concat([gentoo_50,adelie_50])\n",
    "bias_0['Species'].replace(['Gentoo', 'Adelie'],\n",
    "                        [1, 0], inplace=True)\n",
    "bias_0.head(5)"
   ]
  },
  {
   "cell_type": "code",
   "execution_count": 10,
   "id": "365954f4-7d90-48df-ae1d-39ca9bec76b2",
   "metadata": {},
   "outputs": [
    {
     "data": {
      "text/html": [
       "<div>\n",
       "<style scoped>\n",
       "    .dataframe tbody tr th:only-of-type {\n",
       "        vertical-align: middle;\n",
       "    }\n",
       "\n",
       "    .dataframe tbody tr th {\n",
       "        vertical-align: top;\n",
       "    }\n",
       "\n",
       "    .dataframe thead th {\n",
       "        text-align: right;\n",
       "    }\n",
       "</style>\n",
       "<table border=\"1\" class=\"dataframe\">\n",
       "  <thead>\n",
       "    <tr style=\"text-align: right;\">\n",
       "      <th></th>\n",
       "      <th>Species</th>\n",
       "      <th>Beak Length (mm)</th>\n",
       "      <th>Beak Depth (mm)</th>\n",
       "      <th>Flipper Length (mm)</th>\n",
       "      <th>Body Mass (g)</th>\n",
       "      <th>Sex</th>\n",
       "    </tr>\n",
       "  </thead>\n",
       "  <tbody>\n",
       "    <tr>\n",
       "      <th>75</th>\n",
       "      <td>1</td>\n",
       "      <td>44.9</td>\n",
       "      <td>13.3</td>\n",
       "      <td>213.0</td>\n",
       "      <td>5100.0</td>\n",
       "      <td>1.0</td>\n",
       "    </tr>\n",
       "    <tr>\n",
       "      <th>163</th>\n",
       "      <td>1</td>\n",
       "      <td>43.8</td>\n",
       "      <td>13.9</td>\n",
       "      <td>208.0</td>\n",
       "      <td>4300.0</td>\n",
       "      <td>1.0</td>\n",
       "    </tr>\n",
       "    <tr>\n",
       "      <th>1</th>\n",
       "      <td>1</td>\n",
       "      <td>47.5</td>\n",
       "      <td>15.0</td>\n",
       "      <td>218.0</td>\n",
       "      <td>4950.0</td>\n",
       "      <td>1.0</td>\n",
       "    </tr>\n",
       "    <tr>\n",
       "      <th>160</th>\n",
       "      <td>1</td>\n",
       "      <td>45.3</td>\n",
       "      <td>13.8</td>\n",
       "      <td>208.0</td>\n",
       "      <td>4200.0</td>\n",
       "      <td>1.0</td>\n",
       "    </tr>\n",
       "    <tr>\n",
       "      <th>19</th>\n",
       "      <td>1</td>\n",
       "      <td>46.2</td>\n",
       "      <td>14.9</td>\n",
       "      <td>221.0</td>\n",
       "      <td>5300.0</td>\n",
       "      <td>0.0</td>\n",
       "    </tr>\n",
       "  </tbody>\n",
       "</table>\n",
       "</div>"
      ],
      "text/plain": [
       "     Species  Beak Length (mm)  Beak Depth (mm)  Flipper Length (mm)  \\\n",
       "75         1              44.9             13.3                213.0   \n",
       "163        1              43.8             13.9                208.0   \n",
       "1          1              47.5             15.0                218.0   \n",
       "160        1              45.3             13.8                208.0   \n",
       "19         1              46.2             14.9                221.0   \n",
       "\n",
       "     Body Mass (g)  Sex  \n",
       "75          5100.0  1.0  \n",
       "163         4300.0  1.0  \n",
       "1           4950.0  1.0  \n",
       "160         4200.0  1.0  \n",
       "19          5300.0  0.0  "
      ]
     },
     "execution_count": 10,
     "metadata": {},
     "output_type": "execute_result"
    }
   ],
   "source": [
    "gentoo_75 = gentoo_df.sample(75)\n",
    "adelie_25 = adelie_df.sample(25)\n",
    "bias_75 = pd.concat([gentoo_75,adelie_25])\n",
    "bias_75['Species'].replace(['Gentoo', 'Adelie'],\n",
    "                        [1, 0], inplace=True)\n",
    "bias_75.head(5)"
   ]
  },
  {
   "cell_type": "code",
   "execution_count": 12,
   "id": "f6a16933-38dd-4d35-b099-5f23b6bbdc4f",
   "metadata": {},
   "outputs": [
    {
     "data": {
      "text/html": [
       "<div>\n",
       "<style scoped>\n",
       "    .dataframe tbody tr th:only-of-type {\n",
       "        vertical-align: middle;\n",
       "    }\n",
       "\n",
       "    .dataframe tbody tr th {\n",
       "        vertical-align: top;\n",
       "    }\n",
       "\n",
       "    .dataframe thead th {\n",
       "        text-align: right;\n",
       "    }\n",
       "</style>\n",
       "<table border=\"1\" class=\"dataframe\">\n",
       "  <thead>\n",
       "    <tr style=\"text-align: right;\">\n",
       "      <th></th>\n",
       "      <th>Species</th>\n",
       "      <th>Beak Length (mm)</th>\n",
       "      <th>Beak Depth (mm)</th>\n",
       "      <th>Flipper Length (mm)</th>\n",
       "      <th>Body Mass (g)</th>\n",
       "      <th>Sex</th>\n",
       "    </tr>\n",
       "  </thead>\n",
       "  <tbody>\n",
       "    <tr>\n",
       "      <th>135</th>\n",
       "      <td>1</td>\n",
       "      <td>45.2</td>\n",
       "      <td>16.4</td>\n",
       "      <td>223.0</td>\n",
       "      <td>5950.0</td>\n",
       "      <td>0.0</td>\n",
       "    </tr>\n",
       "    <tr>\n",
       "      <th>111</th>\n",
       "      <td>1</td>\n",
       "      <td>49.9</td>\n",
       "      <td>16.1</td>\n",
       "      <td>213.0</td>\n",
       "      <td>5400.0</td>\n",
       "      <td>0.0</td>\n",
       "    </tr>\n",
       "    <tr>\n",
       "      <th>184</th>\n",
       "      <td>1</td>\n",
       "      <td>48.7</td>\n",
       "      <td>15.1</td>\n",
       "      <td>222.0</td>\n",
       "      <td>5350.0</td>\n",
       "      <td>0.0</td>\n",
       "    </tr>\n",
       "    <tr>\n",
       "      <th>198</th>\n",
       "      <td>1</td>\n",
       "      <td>50.0</td>\n",
       "      <td>15.9</td>\n",
       "      <td>224.0</td>\n",
       "      <td>5350.0</td>\n",
       "      <td>0.0</td>\n",
       "    </tr>\n",
       "    <tr>\n",
       "      <th>29</th>\n",
       "      <td>1</td>\n",
       "      <td>42.6</td>\n",
       "      <td>13.7</td>\n",
       "      <td>213.0</td>\n",
       "      <td>4950.0</td>\n",
       "      <td>1.0</td>\n",
       "    </tr>\n",
       "  </tbody>\n",
       "</table>\n",
       "</div>"
      ],
      "text/plain": [
       "     Species  Beak Length (mm)  Beak Depth (mm)  Flipper Length (mm)  \\\n",
       "135        1              45.2             16.4                223.0   \n",
       "111        1              49.9             16.1                213.0   \n",
       "184        1              48.7             15.1                222.0   \n",
       "198        1              50.0             15.9                224.0   \n",
       "29         1              42.6             13.7                213.0   \n",
       "\n",
       "     Body Mass (g)  Sex  \n",
       "135         5950.0  0.0  \n",
       "111         5400.0  0.0  \n",
       "184         5350.0  0.0  \n",
       "198         5350.0  0.0  \n",
       "29          4950.0  1.0  "
      ]
     },
     "execution_count": 12,
     "metadata": {},
     "output_type": "execute_result"
    }
   ],
   "source": [
    "gentoo_90 = gentoo_df.sample(89)\n",
    "adelie_10 = adelie_df.sample(10)\n",
    "bias_90 = pd.concat([gentoo_90,adelie_10])\n",
    "bias_90['Species'].replace(['Gentoo', 'Adelie'],\n",
    "                        [1, 0], inplace=True)\n",
    "bias_90.head(5)"
   ]
  },
  {
   "cell_type": "code",
   "execution_count": 228,
   "id": "aea49cef-1a5d-40b5-ba9c-325be8809d8a",
   "metadata": {},
   "outputs": [],
   "source": [
    "bias_90.to_csv(\"bias_90_to_gretel.csv\")\n",
    "bias_75.to_csv(\"bias_75_to_gretel.csv\")"
   ]
  },
  {
   "cell_type": "markdown",
   "id": "9acad3f7-0b16-41dc-8c22-924973b5d712",
   "metadata": {},
   "source": [
    "Export to Gretel.AI's minority class boosting algorithm and boost minority penguin class  \n",
    "\n",
    "https://gretel.ai/blog/improving-massively-imbalanced-datasets-in-machine-learning-with-synthetic-data"
   ]
  },
  {
   "cell_type": "markdown",
   "id": "f0d710cc-4ade-4925-9e30-ecee589ab4c6",
   "metadata": {},
   "source": [
    "# Classification"
   ]
  },
  {
   "cell_type": "markdown",
   "id": "fb19a361-2f7f-4fca-af11-c6f2a5f740e6",
   "metadata": {},
   "source": [
    "## create test set"
   ]
  },
  {
   "cell_type": "code",
   "execution_count": 13,
   "id": "240fcd27-3841-4b00-9ab5-f8981a2e0281",
   "metadata": {},
   "outputs": [],
   "source": [
    "test_set = pd.read_csv(\"penguins_test.csv\").drop(columns=['Unnamed: 0','Island'])\n",
    "test_set = test_set[test_set[\"Species\"] != \"Chinstrap\"]\n",
    "\n",
    "test_set['Species'].replace(['Gentoo', 'Adelie'],\n",
    "                        [1, 0], inplace=True)\n",
    "test_set= test_set.drop(columns='Sex')\n"
   ]
  },
  {
   "cell_type": "code",
   "execution_count": 14,
   "id": "c66ee4b0-d356-4b51-b526-ffa9da493b2f",
   "metadata": {},
   "outputs": [
    {
     "data": {
      "text/html": [
       "<div>\n",
       "<style scoped>\n",
       "    .dataframe tbody tr th:only-of-type {\n",
       "        vertical-align: middle;\n",
       "    }\n",
       "\n",
       "    .dataframe tbody tr th {\n",
       "        vertical-align: top;\n",
       "    }\n",
       "\n",
       "    .dataframe thead th {\n",
       "        text-align: right;\n",
       "    }\n",
       "</style>\n",
       "<table border=\"1\" class=\"dataframe\">\n",
       "  <thead>\n",
       "    <tr style=\"text-align: right;\">\n",
       "      <th></th>\n",
       "      <th>Species</th>\n",
       "      <th>Beak Length (mm)</th>\n",
       "      <th>Beak Depth (mm)</th>\n",
       "      <th>Flipper Length (mm)</th>\n",
       "      <th>Body Mass (g)</th>\n",
       "    </tr>\n",
       "  </thead>\n",
       "  <tbody>\n",
       "    <tr>\n",
       "      <th>36</th>\n",
       "      <td>0</td>\n",
       "      <td>42.3</td>\n",
       "      <td>21.2</td>\n",
       "      <td>191.0</td>\n",
       "      <td>4150.0</td>\n",
       "    </tr>\n",
       "    <tr>\n",
       "      <th>21</th>\n",
       "      <td>0</td>\n",
       "      <td>38.2</td>\n",
       "      <td>18.1</td>\n",
       "      <td>185.0</td>\n",
       "      <td>3950.0</td>\n",
       "    </tr>\n",
       "    <tr>\n",
       "      <th>69</th>\n",
       "      <td>1</td>\n",
       "      <td>45.1</td>\n",
       "      <td>14.4</td>\n",
       "      <td>210.0</td>\n",
       "      <td>4400.0</td>\n",
       "    </tr>\n",
       "    <tr>\n",
       "      <th>75</th>\n",
       "      <td>0</td>\n",
       "      <td>41.1</td>\n",
       "      <td>19.1</td>\n",
       "      <td>188.0</td>\n",
       "      <td>4100.0</td>\n",
       "    </tr>\n",
       "    <tr>\n",
       "      <th>64</th>\n",
       "      <td>1</td>\n",
       "      <td>42.8</td>\n",
       "      <td>14.2</td>\n",
       "      <td>209.0</td>\n",
       "      <td>4700.0</td>\n",
       "    </tr>\n",
       "  </tbody>\n",
       "</table>\n",
       "</div>"
      ],
      "text/plain": [
       "    Species  Beak Length (mm)  Beak Depth (mm)  Flipper Length (mm)  \\\n",
       "36        0              42.3             21.2                191.0   \n",
       "21        0              38.2             18.1                185.0   \n",
       "69        1              45.1             14.4                210.0   \n",
       "75        0              41.1             19.1                188.0   \n",
       "64        1              42.8             14.2                209.0   \n",
       "\n",
       "    Body Mass (g)  \n",
       "36         4150.0  \n",
       "21         3950.0  \n",
       "69         4400.0  \n",
       "75         4100.0  \n",
       "64         4700.0  "
      ]
     },
     "execution_count": 14,
     "metadata": {},
     "output_type": "execute_result"
    }
   ],
   "source": [
    "test_set.sample(5)"
   ]
  },
  {
   "cell_type": "code",
   "execution_count": 195,
   "id": "b5b6c993-751b-47f3-8c78-c1d53084d8e1",
   "metadata": {},
   "outputs": [],
   "source": [
    "X_test = test_set.drop(columns='Species')\n",
    "Y_test = test_set[\"Species\"]"
   ]
  },
  {
   "cell_type": "code",
   "execution_count": 15,
   "id": "62d9e436-72d3-45ae-aac4-dc19241c32b1",
   "metadata": {},
   "outputs": [],
   "source": [
    "from sklearn.neural_network import MLPClassifier\n",
    "from sklearn.preprocessing import StandardScaler\n"
   ]
  },
  {
   "cell_type": "code",
   "execution_count": 197,
   "id": "a72043ee-7255-4c7e-b641-4f2a9f231241",
   "metadata": {},
   "outputs": [],
   "source": [
    "def platform_preprocess(X_train, X_test):\n",
    "    # preprocess data\n",
    "    scaler = StandardScaler()\n",
    "    scaled_X_train = scaler.fit_transform(X_train)\n",
    "    scaled_X_test = scaler.transform(X_test)\n",
    "    return scaled_X_train, scaled_X_test"
   ]
  },
  {
   "cell_type": "code",
   "execution_count": null,
   "id": "38e59e6f-9c45-4603-b790-63f3e5e393e3",
   "metadata": {},
   "outputs": [],
   "source": []
  },
  {
   "cell_type": "code",
   "execution_count": 198,
   "id": "1e252d67-ffa4-4ad9-b8bb-9e6be1c09856",
   "metadata": {},
   "outputs": [],
   "source": [
    "from sklearn.neural_network import MLPClassifier \n",
    "from sklearn import metrics"
   ]
  },
  {
   "cell_type": "code",
   "execution_count": 199,
   "id": "974355e7-b3d7-469e-847b-5cd46675b805",
   "metadata": {},
   "outputs": [],
   "source": [
    "#define MLP classification program\n",
    "def mlp_classification(x_train, y_train, x_test, y_test, neural_net_layers_specification):\n",
    "    clf = MLPClassifier(hidden_layer_sizes=(neural_net_layers_specification),random_state=1, max_iter=300).fit(x_train,y_train)\n",
    "    y_pred = clf.predict(x_test)\n",
    "    cnf_matrix = metrics.confusion_matrix(y_test, y_pred)\n",
    "    score = metrics.accuracy_score(y_test, y_pred)\n",
    "    return cnf_matrix, score\n",
    "    "
   ]
  },
  {
   "cell_type": "code",
   "execution_count": 324,
   "id": "61a29de3-741e-405a-a47f-e1607b4a6aae",
   "metadata": {},
   "outputs": [],
   "source": [
    "def mlp_pred(x_train, y_train, x_test, neural_net_layers_specification):\n",
    "    clf = MLPClassifier(hidden_layer_sizes=(neural_net_layers_specification),random_state=1, max_iter=500).fit(x_train,y_train)\n",
    "    y_pred = clf.predict(x_test)\n",
    "    return y_pred"
   ]
  },
  {
   "cell_type": "markdown",
   "id": "2a6b2483-10bb-41f3-a7ea-d098b38c4a84",
   "metadata": {},
   "source": [
    "### train data"
   ]
  },
  {
   "cell_type": "code",
   "execution_count": 202,
   "id": "990684d6-d557-449c-8060-605b0cd28af5",
   "metadata": {},
   "outputs": [
    {
     "data": {
      "text/html": [
       "<div>\n",
       "<style scoped>\n",
       "    .dataframe tbody tr th:only-of-type {\n",
       "        vertical-align: middle;\n",
       "    }\n",
       "\n",
       "    .dataframe tbody tr th {\n",
       "        vertical-align: top;\n",
       "    }\n",
       "\n",
       "    .dataframe thead th {\n",
       "        text-align: right;\n",
       "    }\n",
       "</style>\n",
       "<table border=\"1\" class=\"dataframe\">\n",
       "  <thead>\n",
       "    <tr style=\"text-align: right;\">\n",
       "      <th></th>\n",
       "      <th>Species</th>\n",
       "      <th>Beak Length (mm)</th>\n",
       "      <th>Beak Depth (mm)</th>\n",
       "      <th>Flipper Length (mm)</th>\n",
       "      <th>Body Mass (g)</th>\n",
       "      <th>Sex</th>\n",
       "    </tr>\n",
       "  </thead>\n",
       "  <tbody>\n",
       "    <tr>\n",
       "      <th>59</th>\n",
       "      <td>1</td>\n",
       "      <td>49.2</td>\n",
       "      <td>15.2</td>\n",
       "      <td>221.0</td>\n",
       "      <td>6300.0</td>\n",
       "      <td>0.0</td>\n",
       "    </tr>\n",
       "    <tr>\n",
       "      <th>13</th>\n",
       "      <td>1</td>\n",
       "      <td>45.2</td>\n",
       "      <td>14.8</td>\n",
       "      <td>212.0</td>\n",
       "      <td>5200.0</td>\n",
       "      <td>1.0</td>\n",
       "    </tr>\n",
       "    <tr>\n",
       "      <th>183</th>\n",
       "      <td>1</td>\n",
       "      <td>45.5</td>\n",
       "      <td>14.5</td>\n",
       "      <td>212.0</td>\n",
       "      <td>4750.0</td>\n",
       "      <td>1.0</td>\n",
       "    </tr>\n",
       "    <tr>\n",
       "      <th>256</th>\n",
       "      <td>1</td>\n",
       "      <td>46.3</td>\n",
       "      <td>15.8</td>\n",
       "      <td>215.0</td>\n",
       "      <td>5050.0</td>\n",
       "      <td>0.0</td>\n",
       "    </tr>\n",
       "    <tr>\n",
       "      <th>111</th>\n",
       "      <td>1</td>\n",
       "      <td>49.9</td>\n",
       "      <td>16.1</td>\n",
       "      <td>213.0</td>\n",
       "      <td>5400.0</td>\n",
       "      <td>0.0</td>\n",
       "    </tr>\n",
       "  </tbody>\n",
       "</table>\n",
       "</div>"
      ],
      "text/plain": [
       "     Species  Beak Length (mm)  Beak Depth (mm)  Flipper Length (mm)  \\\n",
       "59         1              49.2             15.2                221.0   \n",
       "13         1              45.2             14.8                212.0   \n",
       "183        1              45.5             14.5                212.0   \n",
       "256        1              46.3             15.8                215.0   \n",
       "111        1              49.9             16.1                213.0   \n",
       "\n",
       "     Body Mass (g)  Sex  \n",
       "59          6300.0  0.0  \n",
       "13          5200.0  1.0  \n",
       "183         4750.0  1.0  \n",
       "256         5050.0  0.0  \n",
       "111         5400.0  0.0  "
      ]
     },
     "execution_count": 202,
     "metadata": {},
     "output_type": "execute_result"
    }
   ],
   "source": [
    "bias_0.head()"
   ]
  },
  {
   "cell_type": "markdown",
   "id": "89656b44-8817-4bec-b1db-1adc79278836",
   "metadata": {},
   "source": [
    "## Biased Datasets"
   ]
  },
  {
   "cell_type": "markdown",
   "id": "bc3658c5-9686-4dc5-bed0-734a5f34406b",
   "metadata": {},
   "source": [
    "Split into X and Y variables "
   ]
  },
  {
   "cell_type": "code",
   "execution_count": 204,
   "id": "dd2130e4-3de5-4e8c-b023-be7653f7ae3a",
   "metadata": {},
   "outputs": [],
   "source": [
    "X_bias_0 = bias_0[[\"Beak Length (mm)\",\"Beak Depth (mm)\",\"Flipper Length (mm)\",\"Body Mass (g)\"]]\n",
    "Y_bias_0 = bias_0[\"Species\"]"
   ]
  },
  {
   "cell_type": "code",
   "execution_count": 208,
   "id": "e2426ade-48e0-4de6-a903-9827fbf347f8",
   "metadata": {},
   "outputs": [],
   "source": [
    "X_bias_75 = bias_75[[\"Beak Length (mm)\",\"Beak Depth (mm)\",\"Flipper Length (mm)\",\"Body Mass (g)\"]]\n",
    "Y_bias_75 = bias_75[\"Species\"]"
   ]
  },
  {
   "cell_type": "code",
   "execution_count": 212,
   "id": "95b7392a-e2e1-46b1-8857-b8977b1a4721",
   "metadata": {},
   "outputs": [],
   "source": [
    "X_bias_90 = bias_90[[\"Beak Length (mm)\",\"Beak Depth (mm)\",\"Flipper Length (mm)\",\"Body Mass (g)\"]]\n",
    "Y_bias_90 = bias_90[\"Species\"]"
   ]
  },
  {
   "cell_type": "markdown",
   "id": "c100c694-7870-4290-8a7b-e1f62a2c0a1b",
   "metadata": {},
   "source": [
    "## Minority Boosted Datasets "
   ]
  },
  {
   "cell_type": "code",
   "execution_count": 307,
   "id": "c6e922d3-5457-48a9-9ef2-77dcc138e67a",
   "metadata": {},
   "outputs": [],
   "source": [
    "#90\n",
    "\n",
    "#Import from Gretel synthetic generation \n",
    "balanced_90 = pd.read_csv(\"bias_90_gretel_generated.csv\").drop(columns='Unnamed: 0')\n",
    "balanced_90[\"Species\"] = balanced_90[\"Species\"].replace(['negative', 'positive'],[\"1\", \"0\"])\n",
    "\n",
    "X_balanced_90 = balanced_90[[\"Beak Length (mm)\",\"Beak Depth (mm)\",\"Flipper Length (mm)\",\"Body Mass (g)\"]].astype(float)\n",
    "Y_balanced_90 = balanced_90[\"Species\"].astype(float)"
   ]
  },
  {
   "cell_type": "code",
   "execution_count": 305,
   "id": "afc798ff-f6ab-4e85-a9ff-47cbb661285b",
   "metadata": {},
   "outputs": [
    {
     "data": {
      "text/html": [
       "<div>\n",
       "<style scoped>\n",
       "    .dataframe tbody tr th:only-of-type {\n",
       "        vertical-align: middle;\n",
       "    }\n",
       "\n",
       "    .dataframe tbody tr th {\n",
       "        vertical-align: top;\n",
       "    }\n",
       "\n",
       "    .dataframe thead th {\n",
       "        text-align: right;\n",
       "    }\n",
       "</style>\n",
       "<table border=\"1\" class=\"dataframe\">\n",
       "  <thead>\n",
       "    <tr style=\"text-align: right;\">\n",
       "      <th></th>\n",
       "      <th>Beak Length (mm)</th>\n",
       "      <th>Beak Depth (mm)</th>\n",
       "      <th>Flipper Length (mm)</th>\n",
       "      <th>Body Mass (g)</th>\n",
       "    </tr>\n",
       "  </thead>\n",
       "  <tbody>\n",
       "    <tr>\n",
       "      <th>0</th>\n",
       "      <td>45.1</td>\n",
       "      <td>14.5</td>\n",
       "      <td>207.0</td>\n",
       "      <td>5050.0</td>\n",
       "    </tr>\n",
       "    <tr>\n",
       "      <th>1</th>\n",
       "      <td>48.2</td>\n",
       "      <td>14.3</td>\n",
       "      <td>210.0</td>\n",
       "      <td>4600.0</td>\n",
       "    </tr>\n",
       "    <tr>\n",
       "      <th>2</th>\n",
       "      <td>49.8</td>\n",
       "      <td>16.8</td>\n",
       "      <td>230.0</td>\n",
       "      <td>5700.0</td>\n",
       "    </tr>\n",
       "    <tr>\n",
       "      <th>3</th>\n",
       "      <td>51.5</td>\n",
       "      <td>16.3</td>\n",
       "      <td>230.0</td>\n",
       "      <td>5500.0</td>\n",
       "    </tr>\n",
       "    <tr>\n",
       "      <th>4</th>\n",
       "      <td>45.4</td>\n",
       "      <td>14.6</td>\n",
       "      <td>211.0</td>\n",
       "      <td>4800.0</td>\n",
       "    </tr>\n",
       "    <tr>\n",
       "      <th>...</th>\n",
       "      <td>...</td>\n",
       "      <td>...</td>\n",
       "      <td>...</td>\n",
       "      <td>...</td>\n",
       "    </tr>\n",
       "    <tr>\n",
       "      <th>194</th>\n",
       "      <td>33.1</td>\n",
       "      <td>19.6</td>\n",
       "      <td>211.0</td>\n",
       "      <td>3748.0</td>\n",
       "    </tr>\n",
       "    <tr>\n",
       "      <th>195</th>\n",
       "      <td>40.4</td>\n",
       "      <td>18.4</td>\n",
       "      <td>190.0</td>\n",
       "      <td>2850.0</td>\n",
       "    </tr>\n",
       "    <tr>\n",
       "      <th>196</th>\n",
       "      <td>33.1</td>\n",
       "      <td>18.4</td>\n",
       "      <td>179.0</td>\n",
       "      <td>2850.0</td>\n",
       "    </tr>\n",
       "    <tr>\n",
       "      <th>197</th>\n",
       "      <td>33.1</td>\n",
       "      <td>19.6</td>\n",
       "      <td>178.0</td>\n",
       "      <td>4180.0</td>\n",
       "    </tr>\n",
       "    <tr>\n",
       "      <th>198</th>\n",
       "      <td>33.1</td>\n",
       "      <td>18.5</td>\n",
       "      <td>190.0</td>\n",
       "      <td>4052.0</td>\n",
       "    </tr>\n",
       "  </tbody>\n",
       "</table>\n",
       "<p>199 rows × 4 columns</p>\n",
       "</div>"
      ],
      "text/plain": [
       "     Beak Length (mm)  Beak Depth (mm)  Flipper Length (mm)  Body Mass (g)\n",
       "0                45.1             14.5                207.0         5050.0\n",
       "1                48.2             14.3                210.0         4600.0\n",
       "2                49.8             16.8                230.0         5700.0\n",
       "3                51.5             16.3                230.0         5500.0\n",
       "4                45.4             14.6                211.0         4800.0\n",
       "..                ...              ...                  ...            ...\n",
       "194              33.1             19.6                211.0         3748.0\n",
       "195              40.4             18.4                190.0         2850.0\n",
       "196              33.1             18.4                179.0         2850.0\n",
       "197              33.1             19.6                178.0         4180.0\n",
       "198              33.1             18.5                190.0         4052.0\n",
       "\n",
       "[199 rows x 4 columns]"
      ]
     },
     "execution_count": 305,
     "metadata": {},
     "output_type": "execute_result"
    }
   ],
   "source": [
    "X_balanced_90"
   ]
  },
  {
   "cell_type": "code",
   "execution_count": 306,
   "id": "ac49d2ba-33b6-4860-8fd3-98cbbb64f70a",
   "metadata": {},
   "outputs": [],
   "source": [
    "#75\n",
    "\n",
    "balanced_75 = pd.read_csv(\"bias_75_gretel_generated.csv\").drop(columns='Unnamed: 0')\n",
    "balanced_75[\"Species\"] = balanced_75[\"Species\"].replace(['negative', 'positive'],[\"1\", \"0\"])\n",
    "\n",
    "X_balanced_75 = balanced_75[[\"Beak Length (mm)\",\"Beak Depth (mm)\",\"Flipper Length (mm)\",\"Body Mass (g)\"]].astype(float)\n",
    "Y_balanced_75 = balanced_75[\"Species\"].astype(float)\n"
   ]
  },
  {
   "cell_type": "markdown",
   "id": "cec8dffc-b868-44f4-821e-9e271641d0fe",
   "metadata": {},
   "source": [
    "# Fit"
   ]
  },
  {
   "cell_type": "code",
   "execution_count": 298,
   "id": "7026a21a-8241-4393-8918-d490bb400bc8",
   "metadata": {},
   "outputs": [],
   "source": [
    "neural_net_layers_specification = (2)"
   ]
  },
  {
   "cell_type": "code",
   "execution_count": 325,
   "id": "b72d0ce3-51f5-4975-9ced-439eaffd1218",
   "metadata": {},
   "outputs": [
    {
     "name": "stderr",
     "output_type": "stream",
     "text": [
      "/Users/andrewgoldblatt/opt/anaconda3/lib/python3.9/site-packages/sklearn/neural_network/_multilayer_perceptron.py:692: ConvergenceWarning: Stochastic Optimizer: Maximum iterations (300) reached and the optimization hasn't converged yet.\n",
      "  warnings.warn(\n"
     ]
    },
    {
     "data": {
      "text/plain": [
       "(array([[35,  0],\n",
       "        [ 0, 32]]),\n",
       " 1.0)"
      ]
     },
     "execution_count": 325,
     "metadata": {},
     "output_type": "execute_result"
    }
   ],
   "source": [
    "# 0 bias\n",
    "pp_X_train, pp_X_test =  platform_preprocess(X_bias_0, X_test)\n",
    "mlp_classification(pp_X_train, Y_bias_0, pp_X_test, Y_test, neural_net_layers_specification)"
   ]
  },
  {
   "cell_type": "code",
   "execution_count": 353,
   "id": "48787b04-66b6-46ab-8629-848efe7a082d",
   "metadata": {},
   "outputs": [
    {
     "data": {
      "image/png": "[encoded data removed]",
      "text/plain": [
       "<Figure size 432x288 with 2 Axes>"
      ]
     },
     "metadata": {
      "needs_background": "light"
     },
     "output_type": "display_data"
    }
   ],
   "source": [
    "confusion_matrix = np.array([[35, 0], [5, 27]])\n",
    "\n",
    "# Define class labels\n",
    "class_labels = ['Gentoo', 'Adelie']\n",
    "\n",
    "# Plotting the confusion matrix\n",
    "fig, ax = plt.subplots()\n",
    "im = ax.imshow(confusion_matrix, cmap='GnBu')\n",
    "\n",
    "# Create colorbar\n",
    "cbar = ax.figure.colorbar(im, ax=ax)\n",
    "\n",
    "# Set ticks and labels\n",
    "ax.set_xticks(np.arange(len(class_labels)))\n",
    "ax.set_yticks(np.arange(len(class_labels)))\n",
    "ax.set_xticklabels(class_labels)\n",
    "ax.set_yticklabels(class_labels)\n",
    "\n",
    "# Loop over data dimensions and create text annotations\n",
    "for i in range(len(class_labels)):\n",
    "    for j in range(len(class_labels)):\n",
    "        text = ax.text(j, i, confusion_matrix[i, j],\n",
    "                       ha=\"center\", va=\"center\", color=\"black\")\n",
    "\n",
    "# Set axis labels\n",
    "ax.set_xlabel('Predicted labels')\n",
    "ax.set_ylabel('True labels')\n",
    "\n",
    "# Set title\n",
    "ax.set_title('prediction accuracy')\n",
    "\n",
    "plt.savefig('prediction_matrix.png', format='png', dpi=300)\n",
    "\n",
    "\n",
    "# Display the matrix\n",
    "plt.show()"
   ]
  },
  {
   "cell_type": "code",
   "execution_count": 300,
   "id": "a208e9a4-675a-4cbe-ad7b-9208f0eacb99",
   "metadata": {},
   "outputs": [
    {
     "name": "stderr",
     "output_type": "stream",
     "text": [
      "/Users/andrewgoldblatt/opt/anaconda3/lib/python3.9/site-packages/sklearn/neural_network/_multilayer_perceptron.py:692: ConvergenceWarning: Stochastic Optimizer: Maximum iterations (300) reached and the optimization hasn't converged yet.\n",
      "  warnings.warn(\n"
     ]
    },
    {
     "data": {
      "text/plain": [
       "(array([[35,  0],\n",
       "        [ 5, 27]]),\n",
       " 0.9253731343283582)"
      ]
     },
     "execution_count": 300,
     "metadata": {},
     "output_type": "execute_result"
    }
   ],
   "source": [
    "#75 \n",
    "pp_X_train, pp_X_test =  platform_preprocess(X_bias_75, X_test)\n",
    "mlp_classification(pp_X_train, Y_bias_75, pp_X_test, Y_test, neural_net_layers_specification)"
   ]
  },
  {
   "cell_type": "code",
   "execution_count": 301,
   "id": "2d26ab8d-ac51-4a46-9b49-419d6aaf4ff7",
   "metadata": {},
   "outputs": [
    {
     "name": "stderr",
     "output_type": "stream",
     "text": [
      "/Users/andrewgoldblatt/opt/anaconda3/lib/python3.9/site-packages/sklearn/neural_network/_multilayer_perceptron.py:692: ConvergenceWarning: Stochastic Optimizer: Maximum iterations (300) reached and the optimization hasn't converged yet.\n",
      "  warnings.warn(\n"
     ]
    },
    {
     "data": {
      "text/plain": [
       "(array([[35,  0],\n",
       "        [14, 18]]),\n",
       " 0.7910447761194029)"
      ]
     },
     "execution_count": 301,
     "metadata": {},
     "output_type": "execute_result"
    }
   ],
   "source": [
    "#90 \n",
    "pp_X_train, pp_X_test =  platform_preprocess(X_bias_90, X_test)\n",
    "mlp_classification(pp_X_train, Y_bias_90, pp_X_test, Y_test, neural_net_layers_specification)"
   ]
  },
  {
   "cell_type": "code",
   "execution_count": 308,
   "id": "0989c7c2-b708-4764-8d28-aaa179d0e100",
   "metadata": {},
   "outputs": [
    {
     "name": "stderr",
     "output_type": "stream",
     "text": [
      "/Users/andrewgoldblatt/opt/anaconda3/lib/python3.9/site-packages/sklearn/neural_network/_multilayer_perceptron.py:692: ConvergenceWarning: Stochastic Optimizer: Maximum iterations (300) reached and the optimization hasn't converged yet.\n",
      "  warnings.warn(\n"
     ]
    },
    {
     "data": {
      "text/plain": [
       "(array([[35,  0],\n",
       "        [ 7, 25]]),\n",
       " 0.8955223880597015)"
      ]
     },
     "execution_count": 308,
     "metadata": {},
     "output_type": "execute_result"
    }
   ],
   "source": [
    "#balanced 75\n",
    "pp_X_train, pp_X_test =  platform_preprocess(X_balanced_75, X_test)\n",
    "mlp_classification(pp_X_train, Y_balanced_75, pp_X_test, Y_test, neural_net_layers_specification)"
   ]
  },
  {
   "cell_type": "code",
   "execution_count": 310,
   "id": "0b03e13f-81d9-478f-9cf2-c4c5ffa439da",
   "metadata": {},
   "outputs": [
    {
     "name": "stderr",
     "output_type": "stream",
     "text": [
      "/Users/andrewgoldblatt/opt/anaconda3/lib/python3.9/site-packages/sklearn/neural_network/_multilayer_perceptron.py:692: ConvergenceWarning: Stochastic Optimizer: Maximum iterations (300) reached and the optimization hasn't converged yet.\n",
      "  warnings.warn(\n"
     ]
    },
    {
     "data": {
      "text/plain": [
       "(array([[35,  0],\n",
       "        [ 0, 32]]),\n",
       " 1.0)"
      ]
     },
     "execution_count": 310,
     "metadata": {},
     "output_type": "execute_result"
    }
   ],
   "source": [
    "#balanced 90\n",
    "pp_X_train, pp_X_test =  platform_preprocess(X_balanced_90, X_test)\n",
    "mlp_classification(pp_X_train, Y_balanced_90, pp_X_test, Y_test, neural_net_layers_specification)"
   ]
  },
  {
   "cell_type": "code",
   "execution_count": 314,
   "id": "f5aac064-59f4-4fe7-b3e7-7fcb531dd480",
   "metadata": {},
   "outputs": [],
   "source": [
    "data = [\"X_bias_0\",\"X_bias_75\",\"X_bias_90\",\"X_balanced_75\",\"X_balanced_90\"]\n",
    "results = [1.0,0.9253731343283582,0.7910447761194029, 0.8955223880597015,1.0]"
   ]
  },
  {
   "cell_type": "code",
   "execution_count": 323,
   "id": "2a093d2b-bdeb-48f1-af5b-706bf6dc1fd2",
   "metadata": {},
   "outputs": [
    {
     "data": {
      "image/png": "[encoded data removed]",
      "text/plain": [
       "<Figure size 432x288 with 1 Axes>"
      ]
     },
     "metadata": {
      "needs_background": "light"
     },
     "output_type": "display_data"
    }
   ],
   "source": [
    "data = [\"X_bias_0\", \"X_bias_75\", \"X_bias_90\", \"X_boosted_75\", \"X_boosted_90\"]\n",
    "results = [1.0, 0.9253731343283582, 0.7910447761194029, 0.8955223880597015, 1.0]\n",
    "\n",
    "fig, ax = plt.subplots()\n",
    "ax.bar(data, results, color='steelblue', edgecolor='black')\n",
    "\n",
    "plt.xlabel('Biased Dataset')\n",
    "plt.ylabel('MLP Classification Accuracy')\n",
    "plt.title('Prediction Accuracy')\n",
    "\n",
    "for i in range(len(data)):\n",
    "    ax.text(i, results[i], str(round(results[i], 2)), ha='center', va='bottom')\n",
    "\n",
    "plt.xticks(rotation=45)\n",
    "plt.ylim(0, 1.1) \n",
    "plt.tight_layout() \n",
    "\n",
    "plt.savefig('bias_boost.jpg', format='jpeg', dpi=300)\n",
    "\n",
    "plt.savefig('bias_boost.png', format='png', dpi=300)\n",
    "\n",
    "\n",
    "plt.show()"
   ]
  }
 ],
 "metadata": {
  "kernelspec": {
   "display_name": "Python 3 (ipykernel)",
   "language": "python",
   "name": "python3"
  },
  "language_info": {
   "codemirror_mode": {
    "name": "ipython",
    "version": 3
   },
   "file_extension": ".py",
   "mimetype": "text/x-python",
   "name": "python",
   "nbconvert_exporter": "python",
   "pygments_lexer": "ipython3",
   "version": "3.9.12"
  }
 },
 "nbformat": 4,
 "nbformat_minor": 5
}
